{
  "nbformat": 4,
  "nbformat_minor": 0,
  "metadata": {
    "colab": {
      "provenance": [],
      "gpuType": "T4"
    },
    "kernelspec": {
      "name": "python3",
      "display_name": "Python 3"
    },
    "language_info": {
      "name": "python"
    },
    "accelerator": "GPU"
  },
  "cells": [
    {
      "cell_type": "code",
      "execution_count": null,
      "metadata": {
        "id": "is4kiQ4BKhTR"
      },
      "outputs": [],
      "source": [
        "import numpy as np\n",
        "import os\n",
        "from PIL import Image\n",
        "import cv2\n",
        "\n",
        "from sklearn.utils import shuffle #to shuffle the images"
      ]
    },
    {
      "cell_type": "code",
      "source": [
        "# prompt: mount google drive\n",
        "\n",
        "from google.colab import drive\n",
        "drive.mount('/content/drive')\n"
      ],
      "metadata": {
        "colab": {
          "base_uri": "https://localhost:8080/"
        },
        "id": "RXMy_upfV3cC",
        "outputId": "aa85f818-3f03-43ab-b100-f652a90d4e80"
      },
      "execution_count": null,
      "outputs": [
        {
          "output_type": "stream",
          "name": "stdout",
          "text": [
            "Mounted at /content/drive\n"
          ]
        }
      ]
    },
    {
      "cell_type": "markdown",
      "source": [
        "### Loading Data x Data Processing"
      ],
      "metadata": {
        "id": "X2bRRoa4bsot"
      }
    },
    {
      "cell_type": "code",
      "source": [
        "chest_data_directory = '/content/drive/MyDrive/Datasets/ChestCancerData/'\n",
        "train_data_directory = '/content/drive/MyDrive/Datasets/ChestCancerData/train/'\n",
        "test_data_directory = '/content/drive/MyDrive/Datasets/ChestCancerData/test/'\n",
        "valid_data_directory = '/content/drive/MyDrive/Datasets/ChestCancerData/valid/'"
      ],
      "metadata": {
        "id": "0m_I_2a2LcNT"
      },
      "execution_count": null,
      "outputs": []
    },
    {
      "cell_type": "code",
      "source": [
        "# train data categories\n",
        "normal_images = '/content/drive/MyDrive/Datasets/ChestCancerData/train/Normal/'   #LABEL : N\n",
        "adeno_cell_images = '/content/drive/MyDrive/Datasets/ChestCancerData/train/AdenoCell/'  #LABEL : C1\n",
        "large_cell_images = '/content/drive/MyDrive/Datasets/ChestCancerData/train/LargeCell/'  #LABEL : C2\n",
        "squamous_cell_images = '/content/drive/MyDrive/Datasets/ChestCancerData/train/SquamousCell/'  #LABEL : C3\n",
        "\n",
        "\n",
        "# test_data categories\n",
        "normal_images_test = '/content/drive/MyDrive/Datasets/ChestCancerData/test/Normal/'\n",
        "adeno_cell_images_test = '/content/drive/MyDrive/Datasets/ChestCancerData/test/AdenoCell/'\n",
        "large_cell_images_test = '/content/drive/MyDrive/Datasets/ChestCancerData/test/LargeCell/'\n",
        "squamous_cell_images_test = '/content/drive/MyDrive/Datasets/ChestCancerData/test/SquamousCell/'\n",
        "\n",
        "\n",
        "# valid_data categories\n",
        "normal_images_valid = '/content/drive/MyDrive/Datasets/ChestCancerData/valid/Normal/'\n",
        "adeno_cell_images_valid = '/content/drive/MyDrive/Datasets/ChestCancerData/valid/AdenoCell/'\n",
        "large_cell_images_valid = '/content/drive/MyDrive/Datasets/ChestCancerData/valid/LargeCell/'\n",
        "squamous_cell_images_valid = '/content/drive/MyDrive/Datasets/ChestCancerData/valid/SquamousCell/'"
      ],
      "metadata": {
        "id": "FdJGyHpzVQLi"
      },
      "execution_count": null,
      "outputs": []
    },
    {
      "cell_type": "code",
      "source": [
        "# # RENAME THE IMAGES\n",
        "# def rename_images(folder_path, label):\n",
        "#   count = 1\n",
        "\n",
        "#   for filename in os.listdir(folder_path):\n",
        "#     source = folder_path + filename\n",
        "#     destination = folder_path + str(label) + '_' + str(count) + \".png\"\n",
        "#     os.rename(source, destination)\n",
        "#     count += 1\n",
        "#   print(label + '_images : ' + str(len(folder_path)))\n",
        "\n",
        "# print(\"Number of train Images:\")\n",
        "# # rename train images\n",
        "# rename_images(normal_images, 'N')\n",
        "# rename_images(adeno_cell_images, 'C1')\n",
        "# rename_images(large_cell_images, 'C2')\n",
        "# rename_images(squamous_cell_images, 'C3')\n",
        "\n",
        "print(\"Number of test Images:\")\n",
        "# rename test images\n",
        "rename_images(normal_images_test, 'N')\n",
        "rename_images(adeno_cell_images_test, 'C1')\n",
        "rename_images(large_cell_images_test, 'C2')\n",
        "rename_images(squamous_cell_images_test, 'C3')\n",
        "\n",
        "print(\"Number of valid Images:\")\n",
        "# rename valid images\n",
        "rename_images(normal_images_valid, 'N')\n",
        "rename_images(adeno_cell_images_valid, 'C1')\n",
        "rename_images(large_cell_images_valid, 'C2')\n",
        "rename_images(squamous_cell_images_valid, 'C3')\n"
      ],
      "metadata": {
        "colab": {
          "base_uri": "https://localhost:8080/",
          "height": 228
        },
        "id": "3BEFxB3mSGBN",
        "outputId": "0927d782-c156-4d85-d59f-0676fee398f8"
      },
      "execution_count": null,
      "outputs": [
        {
          "output_type": "stream",
          "name": "stdout",
          "text": [
            "Number of test Images:\n"
          ]
        },
        {
          "output_type": "error",
          "ename": "NameError",
          "evalue": "name 'rename_images' is not defined",
          "traceback": [
            "\u001b[0;31m---------------------------------------------------------------------------\u001b[0m",
            "\u001b[0;31mNameError\u001b[0m                                 Traceback (most recent call last)",
            "\u001b[0;32m<ipython-input-5-f57d45e72fa4>\u001b[0m in \u001b[0;36m<cell line: 21>\u001b[0;34m()\u001b[0m\n\u001b[1;32m     19\u001b[0m \u001b[0mprint\u001b[0m\u001b[0;34m(\u001b[0m\u001b[0;34m\"Number of test Images:\"\u001b[0m\u001b[0;34m)\u001b[0m\u001b[0;34m\u001b[0m\u001b[0;34m\u001b[0m\u001b[0m\n\u001b[1;32m     20\u001b[0m \u001b[0;31m# rename test images\u001b[0m\u001b[0;34m\u001b[0m\u001b[0;34m\u001b[0m\u001b[0m\n\u001b[0;32m---> 21\u001b[0;31m \u001b[0mrename_images\u001b[0m\u001b[0;34m(\u001b[0m\u001b[0mnormal_images_test\u001b[0m\u001b[0;34m,\u001b[0m \u001b[0;34m'N'\u001b[0m\u001b[0;34m)\u001b[0m\u001b[0;34m\u001b[0m\u001b[0;34m\u001b[0m\u001b[0m\n\u001b[0m\u001b[1;32m     22\u001b[0m \u001b[0mrename_images\u001b[0m\u001b[0;34m(\u001b[0m\u001b[0madeno_cell_images_test\u001b[0m\u001b[0;34m,\u001b[0m \u001b[0;34m'C1'\u001b[0m\u001b[0;34m)\u001b[0m\u001b[0;34m\u001b[0m\u001b[0;34m\u001b[0m\u001b[0m\n\u001b[1;32m     23\u001b[0m \u001b[0mrename_images\u001b[0m\u001b[0;34m(\u001b[0m\u001b[0mlarge_cell_images_test\u001b[0m\u001b[0;34m,\u001b[0m \u001b[0;34m'C2'\u001b[0m\u001b[0;34m)\u001b[0m\u001b[0;34m\u001b[0m\u001b[0;34m\u001b[0m\u001b[0m\n",
            "\u001b[0;31mNameError\u001b[0m: name 'rename_images' is not defined"
          ]
        }
      ]
    },
    {
      "cell_type": "code",
      "source": [
        "# combine train and test images\n",
        "X_train = []\n",
        "Y_train = []\n",
        "\n",
        "image_size = 150\n",
        "labels = ['AdenoCell', 'LargeCell', 'Normal','SquamousCell']\n",
        "\n",
        "for i in labels:\n",
        "  folder_path = os.path.join(train_data_directory, i)\n",
        "  for j in os.listdir(folder_path):\n",
        "    img = cv2.imread(os.path.join(folder_path, j))\n",
        "    img = cv2.resize(img, (image_size, image_size))\n",
        "    # print(img)\n",
        "    X_train.append(img)\n",
        "    Y_train.append(i)\n",
        "\n",
        "\n",
        "for i in labels:\n",
        "  folder_path = os.path.join(test_data_directory, i)\n",
        "  for j in os.listdir(folder_path):\n",
        "    img = cv2.imread(os.path.join(folder_path, j))\n",
        "    img = cv2.resize(img, (image_size, image_size))\n",
        "    X_train.append(img)\n",
        "    Y_train.append(i)"
      ],
      "metadata": {
        "id": "NDj2CGGAKvkQ"
      },
      "execution_count": null,
      "outputs": []
    },
    {
      "cell_type": "code",
      "source": [
        "# print(X_train)\n",
        "# print(Y_train)\n"
      ],
      "metadata": {
        "id": "vrchbtrf1toK"
      },
      "execution_count": null,
      "outputs": []
    },
    {
      "cell_type": "code",
      "source": [
        "# convert variables to numpy array\n",
        "\n",
        "X_train = np.array(X_train)\n",
        "Y_train = np.array(Y_train)\n",
        "\n",
        "print(X_train.shape) #images:928, size: 150x150, channels:3\n",
        "print(Y_train.shape)  #labels:928\n"
      ],
      "metadata": {
        "id": "LhcrDA8xKvhf"
      },
      "execution_count": null,
      "outputs": []
    },
    {
      "cell_type": "code",
      "source": [
        "# shuffle the images and their labels together (do it at the same time)\n",
        "\n",
        "X_train, Y_train = shuffle(X_train, Y_train, random_state = 101) #high random_state to reaaaally shuffle\n",
        "\n",
        "print(X_train.shape)\n"
      ],
      "metadata": {
        "id": "P_hdnvq1Ku_c"
      },
      "execution_count": null,
      "outputs": []
    },
    {
      "cell_type": "markdown",
      "source": [
        "### Train-Test Split"
      ],
      "metadata": {
        "id": "VwumUDjtxn42"
      }
    },
    {
      "cell_type": "code",
      "source": [
        "# import libraries\n",
        "from sklearn.model_selection import train_test_split"
      ],
      "metadata": {
        "id": "mj-Hn9WnxUXW"
      },
      "execution_count": null,
      "outputs": []
    },
    {
      "cell_type": "code",
      "source": [
        "# split the data\n",
        "X_train, X_test, y_train, y_test = train_test_split(X_train, Y_train, test_size = 0.2, random_state = 101) #test_size:10% because it is a small data set\n"
      ],
      "metadata": {
        "id": "6mn0hdOegeqO"
      },
      "execution_count": null,
      "outputs": []
    },
    {
      "cell_type": "markdown",
      "source": [
        "Resources x Research\n",
        "\n",
        "---\n",
        "\n",
        "1. [Dataset](https://www.kaggle.com/datasets/mohamedhanyyy/chest-ctscan-images/code?datasetId=839140&sortBy=commentCount)\n",
        "\n",
        "2. [High-Accuracy : ResNets & VGG16](https://www.kaggle.com/code/rxnach/high-accuracy-resnets-vgg16)\n",
        "\n",
        "3. [EnsembleModel_CTScan](https://www.kaggle.com/code/prthmgoyl/ensemblemodel-ctscan)\n",
        "\n",
        "\n",
        "4. [Youtube 1](https://www.youtube.com/watch?v=-zmBMxpNDqQ&list=PLXCapw88C2b65E9ZlMx0dIQlgCZtvEsBF&index=6&t=432s)\n",
        "\n",
        "5. [Youtube 2](https://www.youtube.com/watch?v=juJYmc4vrWU&t=121s)\n",
        "\n",
        "6. [Youtube 3](https://www.youtube.com/live/Gy3B1l-iadA?si=qiw7Z17FflX4U9Dn)\n"
      ],
      "metadata": {
        "id": "vG6VL2bKZ0Gi"
      }
    },
    {
      "cell_type": "code",
      "source": [],
      "metadata": {
        "id": "E_LZ287IcciK"
      },
      "execution_count": null,
      "outputs": []
    }
  ]
}