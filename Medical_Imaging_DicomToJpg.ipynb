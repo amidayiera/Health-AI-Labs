{
  "cells": [
    {
      "cell_type": "code",
      "source": [
        "pip install pydicom"
      ],
      "metadata": {
        "id": "iqH50xdZ4tn2",
        "colab": {
          "base_uri": "https://localhost:8080/"
        },
        "outputId": "72b66887-7dfc-4d88-f421-30aba870fc41"
      },
      "id": "iqH50xdZ4tn2",
      "execution_count": null,
      "outputs": [
        {
          "output_type": "stream",
          "name": "stdout",
          "text": [
            "Collecting pydicom\n",
            "  Downloading pydicom-2.3.0-py3-none-any.whl (2.0 MB)\n",
            "\u001b[?25l\r\u001b[K     |▏                               | 10 kB 33.1 MB/s eta 0:00:01\r\u001b[K     |▍                               | 20 kB 38.7 MB/s eta 0:00:01\r\u001b[K     |▌                               | 30 kB 42.4 MB/s eta 0:00:01\r\u001b[K     |▊                               | 40 kB 45.7 MB/s eta 0:00:01\r\u001b[K     |▉                               | 51 kB 33.4 MB/s eta 0:00:01\r\u001b[K     |█                               | 61 kB 37.2 MB/s eta 0:00:01\r\u001b[K     |█▏                              | 71 kB 30.0 MB/s eta 0:00:01\r\u001b[K     |█▍                              | 81 kB 27.6 MB/s eta 0:00:01\r\u001b[K     |█▌                              | 92 kB 29.6 MB/s eta 0:00:01\r\u001b[K     |█▊                              | 102 kB 31.4 MB/s eta 0:00:01\r\u001b[K     |█▉                              | 112 kB 31.4 MB/s eta 0:00:01\r\u001b[K     |██                              | 122 kB 31.4 MB/s eta 0:00:01\r\u001b[K     |██▏                             | 133 kB 31.4 MB/s eta 0:00:01\r\u001b[K     |██▍                             | 143 kB 31.4 MB/s eta 0:00:01\r\u001b[K     |██▌                             | 153 kB 31.4 MB/s eta 0:00:01\r\u001b[K     |██▊                             | 163 kB 31.4 MB/s eta 0:00:01\r\u001b[K     |██▉                             | 174 kB 31.4 MB/s eta 0:00:01\r\u001b[K     |███                             | 184 kB 31.4 MB/s eta 0:00:01\r\u001b[K     |███▏                            | 194 kB 31.4 MB/s eta 0:00:01\r\u001b[K     |███▍                            | 204 kB 31.4 MB/s eta 0:00:01\r\u001b[K     |███▌                            | 215 kB 31.4 MB/s eta 0:00:01\r\u001b[K     |███▊                            | 225 kB 31.4 MB/s eta 0:00:01\r\u001b[K     |███▉                            | 235 kB 31.4 MB/s eta 0:00:01\r\u001b[K     |████                            | 245 kB 31.4 MB/s eta 0:00:01\r\u001b[K     |████▏                           | 256 kB 31.4 MB/s eta 0:00:01\r\u001b[K     |████▍                           | 266 kB 31.4 MB/s eta 0:00:01\r\u001b[K     |████▌                           | 276 kB 31.4 MB/s eta 0:00:01\r\u001b[K     |████▊                           | 286 kB 31.4 MB/s eta 0:00:01\r\u001b[K     |████▉                           | 296 kB 31.4 MB/s eta 0:00:01\r\u001b[K     |█████                           | 307 kB 31.4 MB/s eta 0:00:01\r\u001b[K     |█████▏                          | 317 kB 31.4 MB/s eta 0:00:01\r\u001b[K     |█████▍                          | 327 kB 31.4 MB/s eta 0:00:01\r\u001b[K     |█████▌                          | 337 kB 31.4 MB/s eta 0:00:01\r\u001b[K     |█████▊                          | 348 kB 31.4 MB/s eta 0:00:01\r\u001b[K     |█████▉                          | 358 kB 31.4 MB/s eta 0:00:01\r\u001b[K     |██████                          | 368 kB 31.4 MB/s eta 0:00:01\r\u001b[K     |██████▏                         | 378 kB 31.4 MB/s eta 0:00:01\r\u001b[K     |██████▍                         | 389 kB 31.4 MB/s eta 0:00:01\r\u001b[K     |██████▌                         | 399 kB 31.4 MB/s eta 0:00:01\r\u001b[K     |██████▊                         | 409 kB 31.4 MB/s eta 0:00:01\r\u001b[K     |██████▉                         | 419 kB 31.4 MB/s eta 0:00:01\r\u001b[K     |███████                         | 430 kB 31.4 MB/s eta 0:00:01\r\u001b[K     |███████▏                        | 440 kB 31.4 MB/s eta 0:00:01\r\u001b[K     |███████▍                        | 450 kB 31.4 MB/s eta 0:00:01\r\u001b[K     |███████▌                        | 460 kB 31.4 MB/s eta 0:00:01\r\u001b[K     |███████▊                        | 471 kB 31.4 MB/s eta 0:00:01\r\u001b[K     |███████▉                        | 481 kB 31.4 MB/s eta 0:00:01\r\u001b[K     |████████                        | 491 kB 31.4 MB/s eta 0:00:01\r\u001b[K     |████████▏                       | 501 kB 31.4 MB/s eta 0:00:01\r\u001b[K     |████████▍                       | 512 kB 31.4 MB/s eta 0:00:01\r\u001b[K     |████████▌                       | 522 kB 31.4 MB/s eta 0:00:01\r\u001b[K     |████████▊                       | 532 kB 31.4 MB/s eta 0:00:01\r\u001b[K     |████████▉                       | 542 kB 31.4 MB/s eta 0:00:01\r\u001b[K     |█████████                       | 552 kB 31.4 MB/s eta 0:00:01\r\u001b[K     |█████████▏                      | 563 kB 31.4 MB/s eta 0:00:01\r\u001b[K     |█████████▍                      | 573 kB 31.4 MB/s eta 0:00:01\r\u001b[K     |█████████▌                      | 583 kB 31.4 MB/s eta 0:00:01\r\u001b[K     |█████████▊                      | 593 kB 31.4 MB/s eta 0:00:01\r\u001b[K     |█████████▉                      | 604 kB 31.4 MB/s eta 0:00:01\r\u001b[K     |██████████                      | 614 kB 31.4 MB/s eta 0:00:01\r\u001b[K     |██████████▏                     | 624 kB 31.4 MB/s eta 0:00:01\r\u001b[K     |██████████▍                     | 634 kB 31.4 MB/s eta 0:00:01\r\u001b[K     |██████████▌                     | 645 kB 31.4 MB/s eta 0:00:01\r\u001b[K     |██████████▊                     | 655 kB 31.4 MB/s eta 0:00:01\r\u001b[K     |██████████▉                     | 665 kB 31.4 MB/s eta 0:00:01\r\u001b[K     |███████████                     | 675 kB 31.4 MB/s eta 0:00:01\r\u001b[K     |███████████▏                    | 686 kB 31.4 MB/s eta 0:00:01\r\u001b[K     |███████████▍                    | 696 kB 31.4 MB/s eta 0:00:01\r\u001b[K     |███████████▌                    | 706 kB 31.4 MB/s eta 0:00:01\r\u001b[K     |███████████▊                    | 716 kB 31.4 MB/s eta 0:00:01\r\u001b[K     |███████████▉                    | 727 kB 31.4 MB/s eta 0:00:01\r\u001b[K     |████████████                    | 737 kB 31.4 MB/s eta 0:00:01\r\u001b[K     |████████████▏                   | 747 kB 31.4 MB/s eta 0:00:01\r\u001b[K     |████████████▍                   | 757 kB 31.4 MB/s eta 0:00:01\r\u001b[K     |████████████▌                   | 768 kB 31.4 MB/s eta 0:00:01\r\u001b[K     |████████████▊                   | 778 kB 31.4 MB/s eta 0:00:01\r\u001b[K     |████████████▉                   | 788 kB 31.4 MB/s eta 0:00:01\r\u001b[K     |█████████████                   | 798 kB 31.4 MB/s eta 0:00:01\r\u001b[K     |█████████████▏                  | 808 kB 31.4 MB/s eta 0:00:01\r\u001b[K     |█████████████▍                  | 819 kB 31.4 MB/s eta 0:00:01\r\u001b[K     |█████████████▌                  | 829 kB 31.4 MB/s eta 0:00:01\r\u001b[K     |█████████████▊                  | 839 kB 31.4 MB/s eta 0:00:01\r\u001b[K     |█████████████▉                  | 849 kB 31.4 MB/s eta 0:00:01\r\u001b[K     |██████████████                  | 860 kB 31.4 MB/s eta 0:00:01\r\u001b[K     |██████████████▏                 | 870 kB 31.4 MB/s eta 0:00:01\r\u001b[K     |██████████████▍                 | 880 kB 31.4 MB/s eta 0:00:01\r\u001b[K     |██████████████▌                 | 890 kB 31.4 MB/s eta 0:00:01\r\u001b[K     |██████████████▊                 | 901 kB 31.4 MB/s eta 0:00:01\r\u001b[K     |██████████████▉                 | 911 kB 31.4 MB/s eta 0:00:01\r\u001b[K     |███████████████                 | 921 kB 31.4 MB/s eta 0:00:01\r\u001b[K     |███████████████▏                | 931 kB 31.4 MB/s eta 0:00:01\r\u001b[K     |███████████████▍                | 942 kB 31.4 MB/s eta 0:00:01\r\u001b[K     |███████████████▌                | 952 kB 31.4 MB/s eta 0:00:01\r\u001b[K     |███████████████▊                | 962 kB 31.4 MB/s eta 0:00:01\r\u001b[K     |███████████████▉                | 972 kB 31.4 MB/s eta 0:00:01\r\u001b[K     |████████████████                | 983 kB 31.4 MB/s eta 0:00:01\r\u001b[K     |████████████████▏               | 993 kB 31.4 MB/s eta 0:00:01\r\u001b[K     |████████████████▍               | 1.0 MB 31.4 MB/s eta 0:00:01\r\u001b[K     |████████████████▌               | 1.0 MB 31.4 MB/s eta 0:00:01\r\u001b[K     |████████████████▊               | 1.0 MB 31.4 MB/s eta 0:00:01\r\u001b[K     |████████████████▉               | 1.0 MB 31.4 MB/s eta 0:00:01\r\u001b[K     |█████████████████               | 1.0 MB 31.4 MB/s eta 0:00:01\r\u001b[K     |█████████████████▏              | 1.1 MB 31.4 MB/s eta 0:00:01\r\u001b[K     |█████████████████▍              | 1.1 MB 31.4 MB/s eta 0:00:01\r\u001b[K     |█████████████████▌              | 1.1 MB 31.4 MB/s eta 0:00:01\r\u001b[K     |█████████████████▊              | 1.1 MB 31.4 MB/s eta 0:00:01\r\u001b[K     |█████████████████▉              | 1.1 MB 31.4 MB/s eta 0:00:01\r\u001b[K     |██████████████████              | 1.1 MB 31.4 MB/s eta 0:00:01\r\u001b[K     |██████████████████▏             | 1.1 MB 31.4 MB/s eta 0:00:01\r\u001b[K     |██████████████████▍             | 1.1 MB 31.4 MB/s eta 0:00:01\r\u001b[K     |██████████████████▌             | 1.1 MB 31.4 MB/s eta 0:00:01\r\u001b[K     |██████████████████▊             | 1.1 MB 31.4 MB/s eta 0:00:01\r\u001b[K     |██████████████████▉             | 1.2 MB 31.4 MB/s eta 0:00:01\r\u001b[K     |███████████████████             | 1.2 MB 31.4 MB/s eta 0:00:01\r\u001b[K     |███████████████████▏            | 1.2 MB 31.4 MB/s eta 0:00:01\r\u001b[K     |███████████████████▍            | 1.2 MB 31.4 MB/s eta 0:00:01\r\u001b[K     |███████████████████▌            | 1.2 MB 31.4 MB/s eta 0:00:01\r\u001b[K     |███████████████████▊            | 1.2 MB 31.4 MB/s eta 0:00:01\r\u001b[K     |███████████████████▉            | 1.2 MB 31.4 MB/s eta 0:00:01\r\u001b[K     |████████████████████            | 1.2 MB 31.4 MB/s eta 0:00:01\r\u001b[K     |████████████████████▏           | 1.2 MB 31.4 MB/s eta 0:00:01\r\u001b[K     |████████████████████▍           | 1.2 MB 31.4 MB/s eta 0:00:01\r\u001b[K     |████████████████████▌           | 1.3 MB 31.4 MB/s eta 0:00:01\r\u001b[K     |████████████████████▊           | 1.3 MB 31.4 MB/s eta 0:00:01\r\u001b[K     |████████████████████▉           | 1.3 MB 31.4 MB/s eta 0:00:01\r\u001b[K     |█████████████████████           | 1.3 MB 31.4 MB/s eta 0:00:01\r\u001b[K     |█████████████████████▏          | 1.3 MB 31.4 MB/s eta 0:00:01\r\u001b[K     |█████████████████████▍          | 1.3 MB 31.4 MB/s eta 0:00:01\r\u001b[K     |█████████████████████▌          | 1.3 MB 31.4 MB/s eta 0:00:01\r\u001b[K     |█████████████████████▊          | 1.3 MB 31.4 MB/s eta 0:00:01\r\u001b[K     |█████████████████████▉          | 1.3 MB 31.4 MB/s eta 0:00:01\r\u001b[K     |██████████████████████          | 1.4 MB 31.4 MB/s eta 0:00:01\r\u001b[K     |██████████████████████▏         | 1.4 MB 31.4 MB/s eta 0:00:01\r\u001b[K     |██████████████████████▍         | 1.4 MB 31.4 MB/s eta 0:00:01\r\u001b[K     |██████████████████████▌         | 1.4 MB 31.4 MB/s eta 0:00:01\r\u001b[K     |██████████████████████▊         | 1.4 MB 31.4 MB/s eta 0:00:01\r\u001b[K     |██████████████████████▉         | 1.4 MB 31.4 MB/s eta 0:00:01\r\u001b[K     |███████████████████████         | 1.4 MB 31.4 MB/s eta 0:00:01\r\u001b[K     |███████████████████████▏        | 1.4 MB 31.4 MB/s eta 0:00:01\r\u001b[K     |███████████████████████▍        | 1.4 MB 31.4 MB/s eta 0:00:01\r\u001b[K     |███████████████████████▌        | 1.4 MB 31.4 MB/s eta 0:00:01\r\u001b[K     |███████████████████████▊        | 1.5 MB 31.4 MB/s eta 0:00:01\r\u001b[K     |███████████████████████▉        | 1.5 MB 31.4 MB/s eta 0:00:01\r\u001b[K     |████████████████████████        | 1.5 MB 31.4 MB/s eta 0:00:01\r\u001b[K     |████████████████████████▏       | 1.5 MB 31.4 MB/s eta 0:00:01\r\u001b[K     |████████████████████████▍       | 1.5 MB 31.4 MB/s eta 0:00:01\r\u001b[K     |████████████████████████▌       | 1.5 MB 31.4 MB/s eta 0:00:01\r\u001b[K     |████████████████████████▊       | 1.5 MB 31.4 MB/s eta 0:00:01\r\u001b[K     |████████████████████████▉       | 1.5 MB 31.4 MB/s eta 0:00:01\r\u001b[K     |█████████████████████████       | 1.5 MB 31.4 MB/s eta 0:00:01\r\u001b[K     |█████████████████████████▏      | 1.5 MB 31.4 MB/s eta 0:00:01\r\u001b[K     |█████████████████████████▍      | 1.6 MB 31.4 MB/s eta 0:00:01\r\u001b[K     |█████████████████████████▌      | 1.6 MB 31.4 MB/s eta 0:00:01\r\u001b[K     |█████████████████████████▊      | 1.6 MB 31.4 MB/s eta 0:00:01\r\u001b[K     |█████████████████████████▉      | 1.6 MB 31.4 MB/s eta 0:00:01\r\u001b[K     |██████████████████████████      | 1.6 MB 31.4 MB/s eta 0:00:01\r\u001b[K     |██████████████████████████▏     | 1.6 MB 31.4 MB/s eta 0:00:01\r\u001b[K     |██████████████████████████▍     | 1.6 MB 31.4 MB/s eta 0:00:01\r\u001b[K     |██████████████████████████▌     | 1.6 MB 31.4 MB/s eta 0:00:01\r\u001b[K     |██████████████████████████▊     | 1.6 MB 31.4 MB/s eta 0:00:01\r\u001b[K     |██████████████████████████▉     | 1.6 MB 31.4 MB/s eta 0:00:01\r\u001b[K     |███████████████████████████     | 1.7 MB 31.4 MB/s eta 0:00:01\r\u001b[K     |███████████████████████████▏    | 1.7 MB 31.4 MB/s eta 0:00:01\r\u001b[K     |███████████████████████████▍    | 1.7 MB 31.4 MB/s eta 0:00:01\r\u001b[K     |███████████████████████████▌    | 1.7 MB 31.4 MB/s eta 0:00:01\r\u001b[K     |███████████████████████████▊    | 1.7 MB 31.4 MB/s eta 0:00:01\r\u001b[K     |███████████████████████████▉    | 1.7 MB 31.4 MB/s eta 0:00:01\r\u001b[K     |████████████████████████████    | 1.7 MB 31.4 MB/s eta 0:00:01\r\u001b[K     |████████████████████████████▏   | 1.7 MB 31.4 MB/s eta 0:00:01\r\u001b[K     |████████████████████████████▍   | 1.7 MB 31.4 MB/s eta 0:00:01\r\u001b[K     |████████████████████████████▌   | 1.8 MB 31.4 MB/s eta 0:00:01\r\u001b[K     |████████████████████████████▊   | 1.8 MB 31.4 MB/s eta 0:00:01\r\u001b[K     |████████████████████████████▉   | 1.8 MB 31.4 MB/s eta 0:00:01\r\u001b[K     |█████████████████████████████   | 1.8 MB 31.4 MB/s eta 0:00:01\r\u001b[K     |█████████████████████████████▏  | 1.8 MB 31.4 MB/s eta 0:00:01\r\u001b[K     |█████████████████████████████▍  | 1.8 MB 31.4 MB/s eta 0:00:01\r\u001b[K     |█████████████████████████████▌  | 1.8 MB 31.4 MB/s eta 0:00:01\r\u001b[K     |█████████████████████████████▊  | 1.8 MB 31.4 MB/s eta 0:00:01\r\u001b[K     |█████████████████████████████▉  | 1.8 MB 31.4 MB/s eta 0:00:01\r\u001b[K     |██████████████████████████████  | 1.8 MB 31.4 MB/s eta 0:00:01\r\u001b[K     |██████████████████████████████▏ | 1.9 MB 31.4 MB/s eta 0:00:01\r\u001b[K     |██████████████████████████████▍ | 1.9 MB 31.4 MB/s eta 0:00:01\r\u001b[K     |██████████████████████████████▌ | 1.9 MB 31.4 MB/s eta 0:00:01\r\u001b[K     |██████████████████████████████▊ | 1.9 MB 31.4 MB/s eta 0:00:01\r\u001b[K     |██████████████████████████████▉ | 1.9 MB 31.4 MB/s eta 0:00:01\r\u001b[K     |███████████████████████████████ | 1.9 MB 31.4 MB/s eta 0:00:01\r\u001b[K     |███████████████████████████████▏| 1.9 MB 31.4 MB/s eta 0:00:01\r\u001b[K     |███████████████████████████████▍| 1.9 MB 31.4 MB/s eta 0:00:01\r\u001b[K     |███████████████████████████████▌| 1.9 MB 31.4 MB/s eta 0:00:01\r\u001b[K     |███████████████████████████████▊| 1.9 MB 31.4 MB/s eta 0:00:01\r\u001b[K     |███████████████████████████████▉| 2.0 MB 31.4 MB/s eta 0:00:01\r\u001b[K     |████████████████████████████████| 2.0 MB 31.4 MB/s \n",
            "\u001b[?25hInstalling collected packages: pydicom\n",
            "Successfully installed pydicom-2.3.0\n"
          ]
        }
      ]
    },
    {
      "cell_type": "code",
      "execution_count": null,
      "id": "dad7d463",
      "metadata": {
        "id": "dad7d463"
      },
      "outputs": [],
      "source": [
        "import pydicom\n",
        "import numpy as np\n",
        "from PIL import Image #used for saving and displaying of the png-jpg images\n",
        "import os\n",
        "from tensorflow.keras.preprocessing import image\n",
        "import matplotlib.pyplot as plt"
      ]
    },
    {
      "cell_type": "code",
      "execution_count": null,
      "id": "733f30fa",
      "metadata": {
        "id": "733f30fa",
        "outputId": "8f8642c2-c4dd-4e65-b403-57a834c74c88",
        "colab": {
          "base_uri": "https://localhost:8080/",
          "height": 339
        }
      },
      "outputs": [
        {
          "output_type": "error",
          "ename": "FileNotFoundError",
          "evalue": "ignored",
          "traceback": [
            "\u001b[0;31m---------------------------------------------------------------------------\u001b[0m",
            "\u001b[0;31mFileNotFoundError\u001b[0m                         Traceback (most recent call last)",
            "\u001b[0;32m<ipython-input-3-6ca20db5c8a2>\u001b[0m in \u001b[0;36m<module>\u001b[0;34m()\u001b[0m\n\u001b[1;32m      1\u001b[0m \u001b[0;31m#change format of single image\u001b[0m\u001b[0;34m\u001b[0m\u001b[0;34m\u001b[0m\u001b[0;34m\u001b[0m\u001b[0m\n\u001b[1;32m      2\u001b[0m \u001b[0mdata_dir\u001b[0m \u001b[0;34m=\u001b[0m \u001b[0;34m\"/Users/amida/Desktop/PROJECT/data/dicom_dir/ID_0000_AGE_0060_CONTRAST_1_CT.dcm\"\u001b[0m\u001b[0;34m\u001b[0m\u001b[0;34m\u001b[0m\u001b[0m\n\u001b[0;32m----> 3\u001b[0;31m \u001b[0mimage\u001b[0m \u001b[0;34m=\u001b[0m \u001b[0mpydicom\u001b[0m\u001b[0;34m.\u001b[0m\u001b[0mdcmread\u001b[0m\u001b[0;34m(\u001b[0m\u001b[0mdata_dir\u001b[0m\u001b[0;34m)\u001b[0m\u001b[0;34m\u001b[0m\u001b[0;34m\u001b[0m\u001b[0m\n\u001b[0m\u001b[1;32m      4\u001b[0m \u001b[0mprint\u001b[0m\u001b[0;34m(\u001b[0m\u001b[0mimage\u001b[0m\u001b[0;34m)\u001b[0m\u001b[0;34m\u001b[0m\u001b[0;34m\u001b[0m\u001b[0m\n",
            "\u001b[0;32m/usr/local/lib/python3.7/dist-packages/pydicom/filereader.py\u001b[0m in \u001b[0;36mdcmread\u001b[0;34m(fp, defer_size, stop_before_pixels, force, specific_tags)\u001b[0m\n\u001b[1;32m    991\u001b[0m         \u001b[0mcaller_owns_file\u001b[0m \u001b[0;34m=\u001b[0m \u001b[0;32mFalse\u001b[0m\u001b[0;34m\u001b[0m\u001b[0;34m\u001b[0m\u001b[0m\n\u001b[1;32m    992\u001b[0m         \u001b[0mlogger\u001b[0m\u001b[0;34m.\u001b[0m\u001b[0mdebug\u001b[0m\u001b[0;34m(\u001b[0m\u001b[0;34m\"Reading file '{0}'\"\u001b[0m\u001b[0;34m.\u001b[0m\u001b[0mformat\u001b[0m\u001b[0;34m(\u001b[0m\u001b[0mfp\u001b[0m\u001b[0;34m)\u001b[0m\u001b[0;34m)\u001b[0m\u001b[0;34m\u001b[0m\u001b[0;34m\u001b[0m\u001b[0m\n\u001b[0;32m--> 993\u001b[0;31m         \u001b[0mfp\u001b[0m \u001b[0;34m=\u001b[0m \u001b[0mopen\u001b[0m\u001b[0;34m(\u001b[0m\u001b[0mfp\u001b[0m\u001b[0;34m,\u001b[0m \u001b[0;34m'rb'\u001b[0m\u001b[0;34m)\u001b[0m\u001b[0;34m\u001b[0m\u001b[0;34m\u001b[0m\u001b[0m\n\u001b[0m\u001b[1;32m    994\u001b[0m     \u001b[0;32melif\u001b[0m \u001b[0mfp\u001b[0m \u001b[0;32mis\u001b[0m \u001b[0;32mNone\u001b[0m \u001b[0;32mor\u001b[0m \u001b[0;32mnot\u001b[0m \u001b[0mhasattr\u001b[0m\u001b[0;34m(\u001b[0m\u001b[0mfp\u001b[0m\u001b[0;34m,\u001b[0m \u001b[0;34m\"read\"\u001b[0m\u001b[0;34m)\u001b[0m \u001b[0;32mor\u001b[0m \u001b[0;32mnot\u001b[0m \u001b[0mhasattr\u001b[0m\u001b[0;34m(\u001b[0m\u001b[0mfp\u001b[0m\u001b[0;34m,\u001b[0m \u001b[0;34m\"seek\"\u001b[0m\u001b[0;34m)\u001b[0m\u001b[0;34m:\u001b[0m\u001b[0;34m\u001b[0m\u001b[0;34m\u001b[0m\u001b[0m\n\u001b[1;32m    995\u001b[0m         raise TypeError(\"dcmread: Expected a file path or a file-like, \"\n",
            "\u001b[0;31mFileNotFoundError\u001b[0m: [Errno 2] No such file or directory: '/Users/amida/Desktop/PROJECT/data/dicom_dir/ID_0000_AGE_0060_CONTRAST_1_CT.dcm'"
          ]
        }
      ],
      "source": [
        "#change format of single image\n",
        "data_dir = \"/Users/amida/Desktop/PROJECT/data/dicom_dir/ID_0000_AGE_0060_CONTRAST_1_CT.dcm\"\n",
        "image = pydicom.dcmread(data_dir)\n",
        "print(image)"
      ]
    },
    {
      "cell_type": "code",
      "execution_count": null,
      "id": "1d79d7c7",
      "metadata": {
        "scrolled": true,
        "id": "1d79d7c7"
      },
      "outputs": [],
      "source": [
        "print(dir(image))"
      ]
    },
    {
      "cell_type": "markdown",
      "id": "5f08c1c2",
      "metadata": {
        "id": "5f08c1c2"
      },
      "source": []
    },
    {
      "cell_type": "markdown",
      "id": "4de9bd8f",
      "metadata": {
        "id": "4de9bd8f"
      },
      "source": [
        "- Pixel_Array : takes the pixels from the dicom image and store them in the 'image'\n",
        "- This image can't be viewed yet because it is just a collection of pixels\n",
        "- The pixels have to be rescaled so that the image can be displayed as either png or jpg\n",
        "- Pixel_array : if divided by 255 we lose a lot of information. There will be overflow and underflow losses.\n",
        "-"
      ]
    },
    {
      "cell_type": "code",
      "execution_count": null,
      "id": "0fdc31d9",
      "metadata": {
        "id": "0fdc31d9"
      },
      "outputs": [],
      "source": [
        "image  = image.pixel_array.astype(float)\n",
        "\n",
        "rescaled_image = (np.maximum(image ,0)/image.max()) * 255 #float pixels\n",
        "final_image = np.uint8(rescaled_image) #integers pixels"
      ]
    },
    {
      "cell_type": "code",
      "execution_count": null,
      "id": "fa44c0c3",
      "metadata": {
        "id": "fa44c0c3"
      },
      "outputs": [],
      "source": []
    },
    {
      "cell_type": "code",
      "execution_count": null,
      "id": "8b4dfdb5",
      "metadata": {
        "id": "8b4dfdb5"
      },
      "outputs": [],
      "source": [
        "# final_image = image.load_img(filename, target_size=(244,244))\n",
        "final_image = Image.fromarray(final_image)"
      ]
    },
    {
      "cell_type": "code",
      "execution_count": null,
      "id": "7d7fa464",
      "metadata": {
        "id": "7d7fa464"
      },
      "outputs": [],
      "source": [
        "plt.imshow(final_image)"
      ]
    },
    {
      "cell_type": "code",
      "execution_count": null,
      "id": "80eb3352",
      "metadata": {
        "id": "80eb3352"
      },
      "outputs": [],
      "source": [
        "final_image"
      ]
    },
    {
      "cell_type": "code",
      "execution_count": null,
      "id": "8b628f07",
      "metadata": {
        "id": "8b628f07"
      },
      "outputs": [],
      "source": []
    },
    {
      "cell_type": "code",
      "execution_count": null,
      "id": "326c4d85",
      "metadata": {
        "id": "326c4d85"
      },
      "outputs": [],
      "source": [
        "# final_image.show()"
      ]
    },
    {
      "cell_type": "code",
      "execution_count": null,
      "id": "bddd8cdf",
      "metadata": {
        "id": "bddd8cdf"
      },
      "outputs": [],
      "source": [
        "final_image.save('/Users/amida/Desktop/PROJECT/data/new_dicom_dir/ID_0000_AGE_0060_CONTRAST_1_CT.jpg')"
      ]
    },
    {
      "cell_type": "markdown",
      "id": "9fd284af",
      "metadata": {
        "id": "9fd284af"
      },
      "source": [
        "- get the name of all the images\n",
        "- give path to the folder that has the images\n",
        "-3 : all three are returned but we only need the filename"
      ]
    },
    {
      "cell_type": "code",
      "execution_count": null,
      "id": "481162bd",
      "metadata": {
        "id": "481162bd"
      },
      "outputs": [],
      "source": [
        "def get_names(path):\n",
        "    names = []\n",
        "    for root, dirnames, filenames in os.walk(path): #3\n",
        "        for filename in filenames:\n",
        "            _, ext = os.path.splitext(filename)\n",
        "            if ext in ['.dcm']: #put them in a dictionary.\n",
        "                names.append(filename)\n",
        "    return names"
      ]
    },
    {
      "cell_type": "code",
      "execution_count": null,
      "id": "82f062c0",
      "metadata": {
        "id": "82f062c0"
      },
      "outputs": [],
      "source": [
        "print(get_names('/Users/amida/Desktop/PROJECT/TrialDataset/'))"
      ]
    },
    {
      "cell_type": "code",
      "execution_count": null,
      "id": "5e77f18a",
      "metadata": {
        "id": "5e77f18a"
      },
      "outputs": [],
      "source": [
        "def convert_dcm_to_jpg(name):\n",
        "\n",
        "    im = pydicom.dcmread('/Users/amida/Desktop/PROJECT/TrialDataset/' + name)\n",
        "\n",
        "    im  = im.pixel_array.astype(float)\n",
        "\n",
        "    rescaled_image = (np.maximum(im ,0)/im.max()) * 255 #float pixels\n",
        "    final_image = np.uint8(rescaled_image) #integers pixels\n",
        "    final_image = Image.fromarray(final_image)\n",
        "\n",
        "    return final_image"
      ]
    },
    {
      "cell_type": "code",
      "execution_count": null,
      "id": "6d6f5123",
      "metadata": {
        "id": "6d6f5123"
      },
      "outputs": [],
      "source": [
        "names = get_names(\"/Users/amida/Desktop/PROJECT/TrialDataset\")\n",
        "for name in names:\n",
        "    image = convert_dcm_to_jpg(name)\n",
        "    image.save(name+'.jpg')"
      ]
    },
    {
      "cell_type": "code",
      "execution_count": null,
      "id": "2dadd8b7",
      "metadata": {
        "id": "2dadd8b7"
      },
      "outputs": [],
      "source": []
    },
    {
      "cell_type": "markdown",
      "id": "1f5965c9",
      "metadata": {
        "id": "1f5965c9"
      },
      "source": [
        "Reference : https://www.youtube.com/watch?v=PKlam1LCBnU"
      ]
    },
    {
      "cell_type": "code",
      "execution_count": null,
      "id": "27681a64",
      "metadata": {
        "id": "27681a64"
      },
      "outputs": [],
      "source": []
    }
  ],
  "metadata": {
    "kernelspec": {
      "display_name": "Python 3",
      "language": "python",
      "name": "python3"
    },
    "language_info": {
      "codemirror_mode": {
        "name": "ipython",
        "version": 3
      },
      "file_extension": ".py",
      "mimetype": "text/x-python",
      "name": "python",
      "nbconvert_exporter": "python",
      "pygments_lexer": "ipython3",
      "version": "3.8.8"
    },
    "colab": {
      "provenance": []
    },
    "accelerator": "GPU"
  },
  "nbformat": 4,
  "nbformat_minor": 5
}